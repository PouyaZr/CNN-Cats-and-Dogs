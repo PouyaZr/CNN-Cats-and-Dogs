{
  "nbformat": 4,
  "nbformat_minor": 0,
  "metadata": {
    "colab": {
      "name": "CNN_Cat_and_Dog.ipynb",
      "provenance": [],
      "collapsed_sections": [],
      "authorship_tag": "ABX9TyOLp0DAulhLny3feCFReJw1",
      "include_colab_link": true
    },
    "kernelspec": {
      "name": "python3",
      "display_name": "Python 3"
    },
    "language_info": {
      "name": "python"
    },
    "accelerator": "GPU"
  },
  "cells": [
    {
      "cell_type": "markdown",
      "metadata": {
        "id": "view-in-github",
        "colab_type": "text"
      },
      "source": [
        "<a href=\"https://colab.research.google.com/github/PouyaZr/CNN_Cats_and_Dogs/blob/master/CNN_Cat_and_Dog.ipynb\" target=\"_parent\"><img src=\"https://colab.research.google.com/assets/colab-badge.svg\" alt=\"Open In Colab\"/></a>"
      ]
    },
    {
      "cell_type": "markdown",
      "source": [
        "\n",
        "\n",
        "### CAT and DOG --> CNN\n",
        "\n"
      ],
      "metadata": {
        "id": "EZamAMI0NbPU"
      }
    },
    {
      "cell_type": "code",
      "execution_count": 5,
      "metadata": {
        "colab": {
          "base_uri": "https://localhost:8080/"
        },
        "id": "yKDiNeKHMk1Z",
        "outputId": "90f5958b-28dc-45c9-c004-29a1aa5a7c32"
      },
      "outputs": [
        {
          "output_type": "stream",
          "name": "stdout",
          "text": [
            "--2022-04-18 10:32:15--  https://download.microsoft.com/download/3/E/1/3E1C3F21-ECDB-4869-8368-6DEBA77B919F/kagglecatsanddogs_3367a.zip\n",
            "Resolving download.microsoft.com (download.microsoft.com)... 23.212.148.130, 2600:1408:c400:191::e59, 2600:1408:c400:18b::e59\n",
            "Connecting to download.microsoft.com (download.microsoft.com)|23.212.148.130|:443... connected.\n",
            "HTTP request sent, awaiting response... 200 OK\n",
            "Length: 824894548 (787M) [application/octet-stream]\n",
            "Saving to: ‘kagglecatsanddogs_3367a.zip’\n",
            "\n",
            "kagglecatsanddogs_3 100%[===================>] 786.68M   104MB/s    in 7.9s    \n",
            "\n",
            "2022-04-18 10:32:23 (100 MB/s) - ‘kagglecatsanddogs_3367a.zip’ saved [824894548/824894548]\n",
            "\n"
          ]
        }
      ],
      "source": [
        "### Download dataset\n",
        "!wget --no-check-certificate https://download.microsoft.com/download/3/E/1/3E1C3F21-ECDB-4869-8368-6DEBA77B919F/kagglecatsanddogs_3367a.zip"
      ]
    },
    {
      "cell_type": "code",
      "source": [
        "!ls"
      ],
      "metadata": {
        "colab": {
          "base_uri": "https://localhost:8080/"
        },
        "id": "F4zjCNjwM4nu",
        "outputId": "52ffcc43-0561-40c7-dce4-a766744b8026"
      },
      "execution_count": 7,
      "outputs": [
        {
          "output_type": "stream",
          "name": "stdout",
          "text": [
            "kagglecatsanddogs_3367a.zip  sample_data\n"
          ]
        }
      ]
    },
    {
      "cell_type": "code",
      "source": [
        "import zipfile\n",
        "\n",
        "ZIP = zipfile.ZipFile('kagglecatsanddogs_3367a.zip', 'r')\n",
        "ZIP.extractall()\n",
        "ZIP.close()"
      ],
      "metadata": {
        "id": "jp0BKAZ9O3vI"
      },
      "execution_count": 9,
      "outputs": []
    },
    {
      "cell_type": "code",
      "source": [
        "!ls"
      ],
      "metadata": {
        "colab": {
          "base_uri": "https://localhost:8080/"
        },
        "id": "oGiGWzQoO9FM",
        "outputId": "775eccb1-2029-492a-f849-a7c0f8505fa3"
      },
      "execution_count": 10,
      "outputs": [
        {
          "output_type": "stream",
          "name": "stdout",
          "text": [
            " kagglecatsanddogs_3367a.zip   PetImages        sample_data\n",
            "'MSR-LA - 3467.docx'\t      'readme[1].txt'\n"
          ]
        }
      ]
    },
    {
      "cell_type": "code",
      "source": [
        "!rm -rf kagglecatsanddogs_3367a.zip"
      ],
      "metadata": {
        "id": "8nyMY7z8PxDi"
      },
      "execution_count": 11,
      "outputs": []
    },
    {
      "cell_type": "code",
      "source": [
        "!mkdir /tmp/dataset\n",
        "!mv PetImages /tmp/dataset"
      ],
      "metadata": {
        "id": "oR_qNTjxVHa3"
      },
      "execution_count": 13,
      "outputs": []
    },
    {
      "cell_type": "code",
      "source": [
        "!ls /tmp/dataset "
      ],
      "metadata": {
        "colab": {
          "base_uri": "https://localhost:8080/"
        },
        "id": "Ck9Vg_gxVJTQ",
        "outputId": "df2919af-9562-45ee-c72b-3b572a2ca9cf"
      },
      "execution_count": 24,
      "outputs": [
        {
          "output_type": "stream",
          "name": "stdout",
          "text": [
            "PetImages\n"
          ]
        }
      ]
    },
    {
      "cell_type": "code",
      "source": [
        "!rm -rf /tmp/dataset/train /tmp/dataset/test"
      ],
      "metadata": {
        "id": "GKOZmoGGZiQY"
      },
      "execution_count": 66,
      "outputs": []
    },
    {
      "cell_type": "code",
      "source": [
        "import os\n",
        "\n",
        "try:\n",
        "  ### Train, Test\n",
        "  os.mkdir(\"/tmp/dataset/train\")\n",
        "  os.mkdir(\"/tmp/dataset/test\")\n",
        "\n",
        "  ### Train: Dog, Cat\n",
        "  os.mkdir(\"/tmp/dataset/train/dogs\")\n",
        "  os.mkdir(\"/tmp/dataset/train/cats\")\n",
        "\n",
        "  ### Test: Dog, Cat\n",
        "  os.mkdir(\"/tmp/dataset/test/dogs\")\n",
        "  os.mkdir(\"/tmp/dataset/test/cats\")\n",
        "except Exception as e:\n",
        "  print(e)"
      ],
      "metadata": {
        "id": "R8FFaTIiXIC4"
      },
      "execution_count": 67,
      "outputs": []
    },
    {
      "cell_type": "code",
      "source": [
        "import random\n",
        "from shutil import copyfile"
      ],
      "metadata": {
        "id": "ZVAcCNKrbl9b"
      },
      "execution_count": 68,
      "outputs": []
    },
    {
      "cell_type": "code",
      "source": [
        "def split_data(SOURCE, TRAIN, TEST, SPLIT_SIZE):\n",
        "  ### Reading the dataset\n",
        "  dataset = os.listdir(SOURCE)      ### listdir returns lists of SOURCE\n",
        "\n",
        "  ### Shuffling\n",
        "  dataset_random = random.sample(dataset, len(dataset))\n",
        "  # print(dataset_random[:10])\n",
        "\n",
        "  # print(f\"len: {len(dataset)}\")\n",
        "\n",
        "  ### Split size\n",
        "  split_value = int(SPLIT_SIZE * len(dataset_random))\n",
        "\n",
        "  # print(split_value)\n",
        "\n",
        "  ### Iterate on dataset (TRAIN)\n",
        "  for each_pic in dataset_random[:split_value]:\n",
        "    if os.path.getsize(SOURCE+each_pic) != 0:\n",
        "      copyfile(SOURCE+each_pic, TRAIN+each_pic)\n",
        "  \n",
        "  ### Iterate on dataset (TEST)\n",
        "  for each_pic in dataset_random[split_value:]:\n",
        "    if os.path.getsize(SOURCE+each_pic) != 0:\n",
        "      copyfile(SOURCE+each_pic, TEST+each_pic)\n",
        "\n",
        "\n",
        "\n",
        "dogs = \"/tmp/dataset/PetImages/Dog/\"\n",
        "cats = \"/tmp/dataset/PetImages/Cat/\"\n",
        "train_dogs = \"/tmp/dataset/train/dogs/\"\n",
        "train_cats = \"/tmp/dataset/train/cats/\"\n",
        "test_dogs = \"/tmp/dataset/test/dogs/\"\n",
        "test_cats = \"/tmp/dataset/test/cats/\"\n",
        "\n",
        "\n",
        "print(f\"Dog Train: {len(os.listdir(train_dogs))}\")\n",
        "print(f\"Dog Test: {len(os.listdir(test_dogs))}\")\n",
        "print(f\"Cat Train: {len(os.listdir(train_cats))}\")\n",
        "print(f\"Cat Test: {len(os.listdir(test_cats))}\")\n",
        "split_data(dogs, train_dogs, test_dogs, 0.8)\n",
        "split_data(cats, train_cats, test_cats, 0.8)\n",
        "print(\"*\" * 50)\n",
        "print(f\"Dog Train: {len(os.listdir(train_dogs))}\")\n",
        "print(f\"Dog Test: {len(os.listdir(test_dogs))}\")\n",
        "print(f\"Cat Train: {len(os.listdir(train_cats))}\")\n",
        "print(f\"Cat Test: {len(os.listdir(test_cats))}\")"
      ],
      "metadata": {
        "colab": {
          "base_uri": "https://localhost:8080/"
        },
        "id": "AbT8HQ6BVsjC",
        "outputId": "2b80bdc8-9d36-41fc-a788-94ab64ba190d"
      },
      "execution_count": 69,
      "outputs": [
        {
          "output_type": "stream",
          "name": "stdout",
          "text": [
            "Dog Train: 0\n",
            "Dog Test: 0\n",
            "Cat Train: 0\n",
            "Cat Test: 0\n",
            "**************************************************\n",
            "Dog Train: 9999\n",
            "Dog Test: 2501\n",
            "Cat Train: 9999\n",
            "Cat Test: 2501\n"
          ]
        }
      ]
    },
    {
      "cell_type": "code",
      "source": [
        ""
      ],
      "metadata": {
        "id": "laIMz0frqks4"
      },
      "execution_count": null,
      "outputs": []
    }
  ]
}