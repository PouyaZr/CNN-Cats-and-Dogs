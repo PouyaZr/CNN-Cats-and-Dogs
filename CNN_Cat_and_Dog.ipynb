{
  "nbformat": 4,
  "nbformat_minor": 0,
  "metadata": {
    "colab": {
      "name": "CNN_Cat_and_Dog.ipynb",
      "provenance": [],
      "collapsed_sections": [],
      "authorship_tag": "ABX9TyOvFRQIOWcAerCXWAT8kQ2k",
      "include_colab_link": true
    },
    "kernelspec": {
      "name": "python3",
      "display_name": "Python 3"
    },
    "language_info": {
      "name": "python"
    },
    "accelerator": "GPU"
  },
  "cells": [
    {
      "cell_type": "markdown",
      "metadata": {
        "id": "view-in-github",
        "colab_type": "text"
      },
      "source": [
        "<a href=\"https://colab.research.google.com/github/PouyaZr/CNN_Cats_and_Dogs/blob/master/CNN_Cat_and_Dog.ipynb\" target=\"_parent\"><img src=\"https://colab.research.google.com/assets/colab-badge.svg\" alt=\"Open In Colab\"/></a>"
      ]
    },
    {
      "cell_type": "markdown",
      "source": [
        "\n",
        "\n",
        "### CAT and DOG --> CNN\n",
        "\n"
      ],
      "metadata": {
        "id": "EZamAMI0NbPU"
      }
    },
    {
      "cell_type": "code",
      "execution_count": null,
      "metadata": {
        "colab": {
          "base_uri": "https://localhost:8080/"
        },
        "id": "yKDiNeKHMk1Z",
        "outputId": "ccea3cab-525f-41e6-a777-c3ad6df0b2a0"
      },
      "outputs": [
        {
          "output_type": "stream",
          "name": "stdout",
          "text": [
            "--2022-04-18 19:34:44--  https://download.microsoft.com/download/3/E/1/3E1C3F21-ECDB-4869-8368-6DEBA77B919F/kagglecatsanddogs_3367a.zip\n",
            "Resolving download.microsoft.com (download.microsoft.com)... 173.223.108.114, 2600:1407:f800:4a5::e59, 2600:1407:f800:49b::e59\n",
            "Connecting to download.microsoft.com (download.microsoft.com)|173.223.108.114|:443... connected.\n",
            "HTTP request sent, awaiting response... 200 OK\n",
            "Length: 824894548 (787M) [application/octet-stream]\n",
            "Saving to: ‘kagglecatsanddogs_3367a.zip’\n",
            "\n",
            "kagglecatsanddogs_3 100%[===================>] 786.68M   103MB/s    in 7.9s    \n",
            "\n",
            "2022-04-18 19:34:53 (99.2 MB/s) - ‘kagglecatsanddogs_3367a.zip’ saved [824894548/824894548]\n",
            "\n"
          ]
        }
      ],
      "source": [
        "### Download dataset\n",
        "!wget --no-check-certificate https://download.microsoft.com/download/3/E/1/3E1C3F21-ECDB-4869-8368-6DEBA77B919F/kagglecatsanddogs_3367a.zip"
      ]
    },
    {
      "cell_type": "code",
      "source": [
        "!ls"
      ],
      "metadata": {
        "colab": {
          "base_uri": "https://localhost:8080/"
        },
        "id": "F4zjCNjwM4nu",
        "outputId": "52ffcc43-0561-40c7-dce4-a766744b8026"
      },
      "execution_count": null,
      "outputs": [
        {
          "output_type": "stream",
          "name": "stdout",
          "text": [
            "kagglecatsanddogs_3367a.zip  sample_data\n"
          ]
        }
      ]
    },
    {
      "cell_type": "code",
      "source": [
        "import zipfile\n",
        "\n",
        "ZIP = zipfile.ZipFile('kagglecatsanddogs_3367a.zip', 'r')\n",
        "ZIP.extractall()\n",
        "ZIP.close()"
      ],
      "metadata": {
        "id": "jp0BKAZ9O3vI"
      },
      "execution_count": null,
      "outputs": []
    },
    {
      "cell_type": "code",
      "source": [
        "!ls"
      ],
      "metadata": {
        "colab": {
          "base_uri": "https://localhost:8080/"
        },
        "id": "oGiGWzQoO9FM",
        "outputId": "b88b6161-ca71-4d80-dbdf-663e7fcd6ed8"
      },
      "execution_count": 23,
      "outputs": [
        {
          "output_type": "stream",
          "name": "stdout",
          "text": [
            "'MSR-LA - 3467.docx'   PetImages  'readme[1].txt'   sample_data\n"
          ]
        }
      ]
    },
    {
      "cell_type": "code",
      "source": [
        "!rm -rf kagglecatsanddogs_3367a.zip"
      ],
      "metadata": {
        "id": "8nyMY7z8PxDi"
      },
      "execution_count": 22,
      "outputs": []
    },
    {
      "cell_type": "code",
      "source": [
        "!mkdir /tmp/dataset\n",
        "!mv PetImages /tmp/dataset"
      ],
      "metadata": {
        "id": "oR_qNTjxVHa3"
      },
      "execution_count": null,
      "outputs": []
    },
    {
      "cell_type": "code",
      "source": [
        "!ls /tmp/dataset "
      ],
      "metadata": {
        "colab": {
          "base_uri": "https://localhost:8080/"
        },
        "id": "Ck9Vg_gxVJTQ",
        "outputId": "df2919af-9562-45ee-c72b-3b572a2ca9cf"
      },
      "execution_count": null,
      "outputs": [
        {
          "output_type": "stream",
          "name": "stdout",
          "text": [
            "PetImages\n"
          ]
        }
      ]
    },
    {
      "cell_type": "code",
      "source": [
        "!rm -rf /tmp/dataset/train /tmp/dataset/test"
      ],
      "metadata": {
        "id": "GKOZmoGGZiQY"
      },
      "execution_count": null,
      "outputs": []
    },
    {
      "cell_type": "code",
      "source": [
        "import os\n",
        "\n",
        "try:\n",
        "  ### Train, Test\n",
        "  os.mkdir(\"/tmp/dataset/train\")\n",
        "  os.mkdir(\"/tmp/dataset/test\")\n",
        "\n",
        "  ### Train: Dog, Cat\n",
        "  os.mkdir(\"/tmp/dataset/train/dogs\")\n",
        "  os.mkdir(\"/tmp/dataset/train/cats\")\n",
        "\n",
        "  ### Test: Dog, Cat\n",
        "  os.mkdir(\"/tmp/dataset/test/dogs\")\n",
        "  os.mkdir(\"/tmp/dataset/test/cats\")\n",
        "except Exception as e:\n",
        "  print(e)"
      ],
      "metadata": {
        "id": "R8FFaTIiXIC4"
      },
      "execution_count": null,
      "outputs": []
    },
    {
      "cell_type": "code",
      "source": [
        "import random\n",
        "from shutil import copyfile"
      ],
      "metadata": {
        "id": "ZVAcCNKrbl9b"
      },
      "execution_count": null,
      "outputs": []
    },
    {
      "cell_type": "code",
      "source": [
        "def split_data(SOURCE, TRAIN, TEST, SPLIT_SIZE):\n",
        "  ### Reading the dataset\n",
        "  dataset = os.listdir(SOURCE)      ### listdir returns lists of SOURCE\n",
        "\n",
        "  ### Shuffling\n",
        "  dataset_random = random.sample(dataset, len(dataset))\n",
        "  # print(dataset_random[:10])\n",
        "\n",
        "  # print(f\"len: {len(dataset)}\")\n",
        "\n",
        "  ### Split size\n",
        "  split_value = int(SPLIT_SIZE * len(dataset_random))\n",
        "\n",
        "  # print(split_value)\n",
        "\n",
        "  ### Iterate on dataset (TRAIN)\n",
        "  for each_pic in dataset_random[:split_value]:\n",
        "    if os.path.getsize(SOURCE+each_pic) != 0:\n",
        "      copyfile(SOURCE+each_pic, TRAIN+each_pic)\n",
        "  \n",
        "  ### Iterate on dataset (TEST)\n",
        "  for each_pic in dataset_random[split_value:]:\n",
        "    if os.path.getsize(SOURCE+each_pic) != 0:\n",
        "      copyfile(SOURCE+each_pic, TEST+each_pic)\n",
        "\n",
        "\n",
        "\n",
        "dogs = \"/tmp/dataset/PetImages/Dog/\"\n",
        "cats = \"/tmp/dataset/PetImages/Cat/\"\n",
        "train_dogs = \"/tmp/dataset/train/dogs/\"\n",
        "train_cats = \"/tmp/dataset/train/cats/\"\n",
        "test_dogs = \"/tmp/dataset/test/dogs/\"\n",
        "test_cats = \"/tmp/dataset/test/cats/\"\n",
        "\n",
        "\n",
        "print(f\"Dog Train: {len(os.listdir(train_dogs))}\")\n",
        "print(f\"Dog Test: {len(os.listdir(test_dogs))}\")\n",
        "print(f\"Cat Train: {len(os.listdir(train_cats))}\")\n",
        "print(f\"Cat Test: {len(os.listdir(test_cats))}\")\n",
        "split_data(dogs, train_dogs, test_dogs, 0.8)\n",
        "split_data(cats, train_cats, test_cats, 0.8)\n",
        "print(\"*\" * 50)\n",
        "print(f\"Dog Train: {len(os.listdir(train_dogs))}\")\n",
        "print(f\"Dog Test: {len(os.listdir(test_dogs))}\")\n",
        "print(f\"Cat Train: {len(os.listdir(train_cats))}\")\n",
        "print(f\"Cat Test: {len(os.listdir(test_cats))}\")"
      ],
      "metadata": {
        "colab": {
          "base_uri": "https://localhost:8080/"
        },
        "id": "AbT8HQ6BVsjC",
        "outputId": "83ee501f-d778-42ee-d437-87812b0b041e"
      },
      "execution_count": null,
      "outputs": [
        {
          "output_type": "stream",
          "name": "stdout",
          "text": [
            "Dog Train: 0\n",
            "Dog Test: 0\n",
            "Cat Train: 0\n",
            "Cat Test: 0\n",
            "**************************************************\n",
            "Dog Train: 9999\n",
            "Dog Test: 2501\n",
            "Cat Train: 9999\n",
            "Cat Test: 2501\n"
          ]
        }
      ]
    },
    {
      "cell_type": "code",
      "source": [
        "print(f\"Size of dataset: {os.path.getsize('/tmp/dataset/PetImages/Dog')}\")\n",
        "print(f\"Size of dataset: {os.path.getsize('/tmp/dataset/PetImages/Cat')}\")"
      ],
      "metadata": {
        "id": "qoFSDhokj_oQ",
        "colab": {
          "base_uri": "https://localhost:8080/"
        },
        "outputId": "1ef7fa83-9a86-427c-d027-8feefc2fbb14"
      },
      "execution_count": null,
      "outputs": [
        {
          "output_type": "stream",
          "name": "stdout",
          "text": [
            "Size of dataset: 270336\n",
            "Size of dataset: 270336\n"
          ]
        }
      ]
    },
    {
      "cell_type": "code",
      "source": [
        "dataset = os.listdir(\"/tmp/dataset/PetImages/Cat\")\n",
        "print(dataset[0:10])"
      ],
      "metadata": {
        "colab": {
          "base_uri": "https://localhost:8080/"
        },
        "id": "4fywUNgjKuNZ",
        "outputId": "124f0f05-7dc0-43b4-c240-a73b428bdada"
      },
      "execution_count": null,
      "outputs": [
        {
          "output_type": "stream",
          "name": "stdout",
          "text": [
            "['11184.jpg', '8133.jpg', '401.jpg', '8498.jpg', '11251.jpg', '27.jpg', '9321.jpg', '10.jpg', '11581.jpg', '8451.jpg']\n"
          ]
        }
      ]
    },
    {
      "cell_type": "code",
      "source": [
        "from tensorflow.keras.preprocessing.image import ImageDataGenerator"
      ],
      "metadata": {
        "id": "_HlbXBRXLkSE"
      },
      "execution_count": null,
      "outputs": []
    },
    {
      "cell_type": "code",
      "source": [
        "data_gen = ImageDataGenerator(rescale=1.0/255)"
      ],
      "metadata": {
        "id": "PV6QHwkGLxPJ"
      },
      "execution_count": null,
      "outputs": []
    },
    {
      "cell_type": "code",
      "source": [
        "train_gen = data_gen.flow_from_directory(directory='/tmp/dataset/train/',\n",
        "                                         target_size=(150, 150),\n",
        "                                         class_mode='binary',\n",
        "                                         batch_size=32)\n",
        "\n",
        "test_gen = data_gen.flow_from_directory(directory='/tmp/dataset/test/',\n",
        "                                        target_size=(150, 150),\n",
        "                                        class_mode='binary',\n",
        "                                        batch_size=32)\n"
      ],
      "metadata": {
        "colab": {
          "base_uri": "https://localhost:8080/"
        },
        "id": "z_GQnHS7MUHb",
        "outputId": "4316b155-9112-47be-8de2-557d1126c930"
      },
      "execution_count": null,
      "outputs": [
        {
          "output_type": "stream",
          "name": "stdout",
          "text": [
            "Found 19996 images belonging to 2 classes.\n",
            "Found 5002 images belonging to 2 classes.\n"
          ]
        }
      ]
    },
    {
      "cell_type": "code",
      "source": [
        "import tensorflow as tf\n",
        "from tensorflow.keras.layers import Conv2D, MaxPooling2D, Flatten, Dense"
      ],
      "metadata": {
        "id": "5peBBS3ANf_X"
      },
      "execution_count": null,
      "outputs": []
    },
    {
      "cell_type": "code",
      "source": [
        "model = tf.keras.models.Sequential([\n",
        "                                    ### First Layer\n",
        "                                    Conv2D(filters=16, kernel_size=(3, 3), activation='relu', input_shape=(150, 150, 3)),\n",
        "                                           MaxPooling2D(pool_size=(2, 2)),\n",
        "\n",
        "                                    ### Second Layer\n",
        "                                    Conv2D(filters=32, kernel_size=(3, 3), activation='relu'),\n",
        "                                           MaxPooling2D(pool_size=(2, 2)),\n",
        "\n",
        "                                    ### Third Layer\n",
        "                                    Conv2D(filters=64, kernel_size=(3, 3), activation='relu'),\n",
        "                                           MaxPooling2D(pool_size=(2, 2)),\n",
        "\n",
        "                                    ### Fourth Layer\n",
        "                                    Conv2D(filters=64, kernel_size=(3, 3), activation='relu'),\n",
        "                                           MaxPooling2D(pool_size=(2, 2)),\n",
        "                                    \n",
        "                                    ### Fifth Layer\n",
        "                                    Conv2D(filters=128, kernel_size=(3, 3), activation='relu'),\n",
        "                                           MaxPooling2D(pool_size=(2, 2)),\n",
        "                                    \n",
        "                                    ### Flatten\n",
        "                                    Flatten(),\n",
        "\n",
        "                                    Dense(units=256, activation='relu'),\n",
        "                                    Dense(units=1, activation='sigmoid')\n",
        "                                                                          \n",
        "])"
      ],
      "metadata": {
        "id": "8_UKa9MYNvzY"
      },
      "execution_count": null,
      "outputs": []
    },
    {
      "cell_type": "code",
      "source": [
        "model.summary()"
      ],
      "metadata": {
        "colab": {
          "base_uri": "https://localhost:8080/"
        },
        "id": "Cc_XsbYhRePQ",
        "outputId": "4ca8013c-62dd-4cd0-c913-3a24ac76fe2c"
      },
      "execution_count": null,
      "outputs": [
        {
          "output_type": "stream",
          "name": "stdout",
          "text": [
            "Model: \"sequential_1\"\n",
            "_________________________________________________________________\n",
            " Layer (type)                Output Shape              Param #   \n",
            "=================================================================\n",
            " conv2d_5 (Conv2D)           (None, 148, 148, 16)      448       \n",
            "                                                                 \n",
            " max_pooling2d_5 (MaxPooling  (None, 74, 74, 16)       0         \n",
            " 2D)                                                             \n",
            "                                                                 \n",
            " conv2d_6 (Conv2D)           (None, 72, 72, 32)        4640      \n",
            "                                                                 \n",
            " max_pooling2d_6 (MaxPooling  (None, 36, 36, 32)       0         \n",
            " 2D)                                                             \n",
            "                                                                 \n",
            " conv2d_7 (Conv2D)           (None, 34, 34, 64)        18496     \n",
            "                                                                 \n",
            " max_pooling2d_7 (MaxPooling  (None, 17, 17, 64)       0         \n",
            " 2D)                                                             \n",
            "                                                                 \n",
            " conv2d_8 (Conv2D)           (None, 15, 15, 64)        36928     \n",
            "                                                                 \n",
            " max_pooling2d_8 (MaxPooling  (None, 7, 7, 64)         0         \n",
            " 2D)                                                             \n",
            "                                                                 \n",
            " conv2d_9 (Conv2D)           (None, 5, 5, 128)         73856     \n",
            "                                                                 \n",
            " max_pooling2d_9 (MaxPooling  (None, 2, 2, 128)        0         \n",
            " 2D)                                                             \n",
            "                                                                 \n",
            " flatten_1 (Flatten)         (None, 512)               0         \n",
            "                                                                 \n",
            " dense_2 (Dense)             (None, 256)               131328    \n",
            "                                                                 \n",
            " dense_3 (Dense)             (None, 1)                 257       \n",
            "                                                                 \n",
            "=================================================================\n",
            "Total params: 265,953\n",
            "Trainable params: 265,953\n",
            "Non-trainable params: 0\n",
            "_________________________________________________________________\n"
          ]
        }
      ]
    },
    {
      "cell_type": "code",
      "source": [
        "model.compile(optimizer='rmsprop', loss='binary_crossentropy', metrics=['accuracy'])"
      ],
      "metadata": {
        "id": "XtuPjynuRsh0"
      },
      "execution_count": null,
      "outputs": []
    },
    {
      "cell_type": "code",
      "source": [
        "tf.test.gpu_device_name()"
      ],
      "metadata": {
        "colab": {
          "base_uri": "https://localhost:8080/",
          "height": 35
        },
        "id": "06Ez1A_sR9nV",
        "outputId": "57b2135a-361a-4d09-ef18-6d556a87e303"
      },
      "execution_count": null,
      "outputs": [
        {
          "output_type": "execute_result",
          "data": {
            "text/plain": [
              "'/device:GPU:0'"
            ],
            "application/vnd.google.colaboratory.intrinsic+json": {
              "type": "string"
            }
          },
          "metadata": {},
          "execution_count": 23
        }
      ]
    },
    {
      "cell_type": "code",
      "source": [
        "with tf.device('/device:GPU:0'):\n",
        "  model.fit_generator(generator=train_gen,\n",
        "                      steps_per_epoch=19996//32,\n",
        "                      epochs=25,\n",
        "                      validation_data=test_gen,\n",
        "                      validation_steps=5002//32)"
      ],
      "metadata": {
        "colab": {
          "base_uri": "https://localhost:8080/"
        },
        "id": "s3ciq7QtSDK5",
        "outputId": "e04af7a3-d549-4dda-c8b1-672867353667"
      },
      "execution_count": null,
      "outputs": [
        {
          "metadata": {
            "tags": null
          },
          "name": "stderr",
          "output_type": "stream",
          "text": [
            "/usr/local/lib/python3.7/dist-packages/ipykernel_launcher.py:6: UserWarning: `Model.fit_generator` is deprecated and will be removed in a future version. Please use `Model.fit`, which supports generators.\n",
            "  \n"
          ]
        },
        {
          "metadata": {
            "tags": null
          },
          "name": "stdout",
          "output_type": "stream",
          "text": [
            "Epoch 1/25\n",
            "482/624 [======================>.......] - ETA: 17s - loss: 0.6368 - accuracy: 0.6274"
          ]
        },
        {
          "metadata": {
            "tags": null
          },
          "name": "stderr",
          "output_type": "stream",
          "text": [
            "/usr/local/lib/python3.7/dist-packages/PIL/TiffImagePlugin.py:770: UserWarning: Possibly corrupt EXIF data.  Expecting to read 32 bytes but only got 0. Skipping tag 270\n",
            "  \" Skipping tag %s\" % (size, len(data), tag)\n",
            "/usr/local/lib/python3.7/dist-packages/PIL/TiffImagePlugin.py:770: UserWarning: Possibly corrupt EXIF data.  Expecting to read 5 bytes but only got 0. Skipping tag 271\n",
            "  \" Skipping tag %s\" % (size, len(data), tag)\n",
            "/usr/local/lib/python3.7/dist-packages/PIL/TiffImagePlugin.py:770: UserWarning: Possibly corrupt EXIF data.  Expecting to read 8 bytes but only got 0. Skipping tag 272\n",
            "  \" Skipping tag %s\" % (size, len(data), tag)\n",
            "/usr/local/lib/python3.7/dist-packages/PIL/TiffImagePlugin.py:770: UserWarning: Possibly corrupt EXIF data.  Expecting to read 8 bytes but only got 0. Skipping tag 282\n",
            "  \" Skipping tag %s\" % (size, len(data), tag)\n",
            "/usr/local/lib/python3.7/dist-packages/PIL/TiffImagePlugin.py:770: UserWarning: Possibly corrupt EXIF data.  Expecting to read 8 bytes but only got 0. Skipping tag 283\n",
            "  \" Skipping tag %s\" % (size, len(data), tag)\n",
            "/usr/local/lib/python3.7/dist-packages/PIL/TiffImagePlugin.py:770: UserWarning: Possibly corrupt EXIF data.  Expecting to read 20 bytes but only got 0. Skipping tag 306\n",
            "  \" Skipping tag %s\" % (size, len(data), tag)\n",
            "/usr/local/lib/python3.7/dist-packages/PIL/TiffImagePlugin.py:770: UserWarning: Possibly corrupt EXIF data.  Expecting to read 48 bytes but only got 0. Skipping tag 532\n",
            "  \" Skipping tag %s\" % (size, len(data), tag)\n",
            "/usr/local/lib/python3.7/dist-packages/PIL/TiffImagePlugin.py:788: UserWarning: Corrupt EXIF data.  Expecting to read 2 bytes but only got 0. \n",
            "  warnings.warn(str(msg))\n"
          ]
        },
        {
          "output_type": "stream",
          "name": "stdout",
          "text": [
            "624/624 [==============================] - 109s 157ms/step - loss: 0.6194 - accuracy: 0.6475 - val_loss: 0.5445 - val_accuracy: 0.7242\n",
            "Epoch 2/25\n",
            "624/624 [==============================] - 92s 148ms/step - loss: 0.4963 - accuracy: 0.7654 - val_loss: 0.5009 - val_accuracy: 0.7564\n",
            "Epoch 3/25\n",
            "624/624 [==============================] - 92s 147ms/step - loss: 0.4201 - accuracy: 0.8072 - val_loss: 0.3993 - val_accuracy: 0.8213\n",
            "Epoch 4/25\n",
            "624/624 [==============================] - 93s 149ms/step - loss: 0.3580 - accuracy: 0.8432 - val_loss: 0.3591 - val_accuracy: 0.8476\n",
            "Epoch 5/25\n",
            "624/624 [==============================] - 93s 149ms/step - loss: 0.3065 - accuracy: 0.8671 - val_loss: 0.4113 - val_accuracy: 0.8243\n",
            "Epoch 6/25\n",
            "624/624 [==============================] - 93s 149ms/step - loss: 0.2658 - accuracy: 0.8887 - val_loss: 0.3051 - val_accuracy: 0.8754\n",
            "Epoch 7/25\n",
            "624/624 [==============================] - 93s 148ms/step - loss: 0.2281 - accuracy: 0.9052 - val_loss: 0.3158 - val_accuracy: 0.8708\n",
            "Epoch 8/25\n",
            "624/624 [==============================] - 92s 148ms/step - loss: 0.2007 - accuracy: 0.9175 - val_loss: 0.3642 - val_accuracy: 0.8730\n",
            "Epoch 9/25\n",
            "624/624 [==============================] - 96s 154ms/step - loss: 0.1797 - accuracy: 0.9281 - val_loss: 0.3359 - val_accuracy: 0.8806\n",
            "Epoch 10/25\n",
            "624/624 [==============================] - 94s 150ms/step - loss: 0.1617 - accuracy: 0.9359 - val_loss: 0.3916 - val_accuracy: 0.8738\n",
            "Epoch 11/25\n",
            "624/624 [==============================] - 91s 146ms/step - loss: 0.1499 - accuracy: 0.9425 - val_loss: 0.3691 - val_accuracy: 0.8820\n",
            "Epoch 12/25\n",
            "624/624 [==============================] - 92s 148ms/step - loss: 0.1344 - accuracy: 0.9490 - val_loss: 0.4761 - val_accuracy: 0.8842\n",
            "Epoch 13/25\n",
            "624/624 [==============================] - 92s 148ms/step - loss: 0.1194 - accuracy: 0.9572 - val_loss: 0.4566 - val_accuracy: 0.8291\n",
            "Epoch 14/25\n",
            "624/624 [==============================] - 93s 149ms/step - loss: 0.1079 - accuracy: 0.9613 - val_loss: 0.4345 - val_accuracy: 0.8722\n",
            "Epoch 15/25\n",
            "624/624 [==============================] - 93s 149ms/step - loss: 0.1023 - accuracy: 0.9625 - val_loss: 0.4333 - val_accuracy: 0.8680\n",
            "Epoch 16/25\n",
            "624/624 [==============================] - 94s 150ms/step - loss: 0.1038 - accuracy: 0.9650 - val_loss: 0.4286 - val_accuracy: 0.8772\n",
            "Epoch 17/25\n",
            "624/624 [==============================] - 93s 150ms/step - loss: 0.0976 - accuracy: 0.9681 - val_loss: 0.4649 - val_accuracy: 0.8762\n",
            "Epoch 18/25\n",
            "624/624 [==============================] - 93s 150ms/step - loss: 0.0947 - accuracy: 0.9688 - val_loss: 0.4489 - val_accuracy: 0.8730\n",
            "Epoch 19/25\n",
            "624/624 [==============================] - 93s 150ms/step - loss: 0.0942 - accuracy: 0.9686 - val_loss: 0.4430 - val_accuracy: 0.8622\n",
            "Epoch 20/25\n",
            "624/624 [==============================] - 95s 152ms/step - loss: 0.1001 - accuracy: 0.9688 - val_loss: 0.8692 - val_accuracy: 0.8496\n",
            "Epoch 21/25\n",
            "624/624 [==============================] - 93s 149ms/step - loss: 0.0876 - accuracy: 0.9720 - val_loss: 0.6902 - val_accuracy: 0.8830\n",
            "Epoch 22/25\n",
            "624/624 [==============================] - 93s 150ms/step - loss: 0.0817 - accuracy: 0.9739 - val_loss: 0.4783 - val_accuracy: 0.8700\n",
            "Epoch 23/25\n",
            "624/624 [==============================] - 93s 149ms/step - loss: 0.0792 - accuracy: 0.9737 - val_loss: 0.4603 - val_accuracy: 0.8572\n",
            "Epoch 24/25\n",
            "624/624 [==============================] - 94s 150ms/step - loss: 0.0800 - accuracy: 0.9754 - val_loss: 0.6737 - val_accuracy: 0.8840\n",
            "Epoch 25/25\n",
            "624/624 [==============================] - 93s 150ms/step - loss: 0.0870 - accuracy: 0.9746 - val_loss: 0.5659 - val_accuracy: 0.8824\n"
          ]
        }
      ]
    },
    {
      "cell_type": "code",
      "source": [
        "### The model has Overfitting"
      ],
      "metadata": {
        "id": "-lVmRUEDTyuy"
      },
      "execution_count": null,
      "outputs": []
    },
    {
      "cell_type": "markdown",
      "source": [
        "### Transfer Learning --> Cats and Dogs\n",
        "\n",
        "\n",
        "  1) Instantiating our Model\n",
        "\n"
      ],
      "metadata": {
        "id": "ASMq-QOFhAyZ"
      }
    },
    {
      "cell_type": "code",
      "source": [
        "import tensorflow as tf\n",
        "import os\n",
        "import zipfile"
      ],
      "metadata": {
        "id": "L7fvm-R_hJFc"
      },
      "execution_count": 2,
      "outputs": []
    },
    {
      "cell_type": "code",
      "source": [
        "### InceptionV3\n",
        "from tensorflow.keras.applications import InceptionV3\n",
        "\n",
        "pre_trained_model = InceptionV3(input_shape=(150, 150, 3),\n",
        "                                weights=None,\n",
        "                                include_top=False)"
      ],
      "metadata": {
        "id": "jllOdApYhScE"
      },
      "execution_count": 3,
      "outputs": []
    },
    {
      "cell_type": "code",
      "source": [
        "!wget https://storage.googleapis.com/mledu-datasets/inception_v3_weights_tf_dim_ordering_tf_kernels_notop.h5 \\\n",
        "-O /tmp/inception_v3_tf.h5\n",
        "\n",
        "weights_address = \"/tmp/inception_v3_tf.h5\""
      ],
      "metadata": {
        "colab": {
          "base_uri": "https://localhost:8080/"
        },
        "id": "5shxW4V_i4BL",
        "outputId": "9738b1b5-eecd-42a6-835f-fa8112bff12a"
      },
      "execution_count": 4,
      "outputs": [
        {
          "output_type": "stream",
          "name": "stdout",
          "text": [
            "--2022-04-19 12:26:00--  https://storage.googleapis.com/mledu-datasets/inception_v3_weights_tf_dim_ordering_tf_kernels_notop.h5\n",
            "Resolving storage.googleapis.com (storage.googleapis.com)... 173.194.74.128, 209.85.145.128, 172.217.219.128, ...\n",
            "Connecting to storage.googleapis.com (storage.googleapis.com)|173.194.74.128|:443... connected.\n",
            "HTTP request sent, awaiting response... 200 OK\n",
            "Length: 87910968 (84M) [application/x-hdf]\n",
            "Saving to: ‘/tmp/inception_v3_tf.h5’\n",
            "\n",
            "/tmp/inception_v3_t 100%[===================>]  83.84M   220MB/s    in 0.4s    \n",
            "\n",
            "2022-04-19 12:26:00 (220 MB/s) - ‘/tmp/inception_v3_tf.h5’ saved [87910968/87910968]\n",
            "\n"
          ]
        }
      ]
    },
    {
      "cell_type": "code",
      "source": [
        "!ls /tmp"
      ],
      "metadata": {
        "colab": {
          "base_uri": "https://localhost:8080/"
        },
        "id": "EyseM8MDlDg0",
        "outputId": "abc7cedc-b6e6-401b-9954-cdc553704e0a"
      },
      "execution_count": 5,
      "outputs": [
        {
          "output_type": "stream",
          "name": "stdout",
          "text": [
            "dap_multiplexer.ef37f9e8356f.root.log.INFO.20220419-122511.56\n",
            "dap_multiplexer.INFO\n",
            "debugger_qdadrfekc\n",
            "inception_v3_tf.h5\n",
            "initgoogle_syslog_dir.0\n",
            "pyright-109-kPGaM43BX0oV\n",
            "pyright-109-twi47l10lyY7\n",
            "python-languageserver-cancellation\n"
          ]
        }
      ]
    },
    {
      "cell_type": "code",
      "source": [
        "### Loading the weights that I have from another addresses\n",
        "pre_trained_model.load_weights(weights_address)"
      ],
      "metadata": {
        "id": "JDm-z3l3lIrF"
      },
      "execution_count": 6,
      "outputs": []
    },
    {
      "cell_type": "code",
      "source": [
        "### Freezing the weights that came from InceptionV3\n",
        "for layer in pre_trained_model.layers:\n",
        "  layer.trainable = False"
      ],
      "metadata": {
        "id": "TmCGmXpKl6nA"
      },
      "execution_count": 7,
      "outputs": []
    },
    {
      "cell_type": "code",
      "source": [
        "# pre_trained_model.summary()"
      ],
      "metadata": {
        "id": "j6Zev0Rxmfzr"
      },
      "execution_count": 8,
      "outputs": []
    },
    {
      "cell_type": "code",
      "source": [
        "### Picking up last layer\n",
        "last_layer = pre_trained_model.get_layer('mixed7')\n",
        "last_output = last_layer.output"
      ],
      "metadata": {
        "id": "MBlI6FPvmnlO"
      },
      "execution_count": 9,
      "outputs": []
    },
    {
      "cell_type": "code",
      "source": [
        "last_layer.output_shape"
      ],
      "metadata": {
        "colab": {
          "base_uri": "https://localhost:8080/"
        },
        "id": "S079TeH9nQ3p",
        "outputId": "4505f694-7cfe-4020-be33-c9d5b15a9c71"
      },
      "execution_count": 10,
      "outputs": [
        {
          "output_type": "execute_result",
          "data": {
            "text/plain": [
              "(None, 7, 7, 768)"
            ]
          },
          "metadata": {},
          "execution_count": 10
        }
      ]
    },
    {
      "cell_type": "markdown",
      "source": [
        "2) Continuing to add the rest of the Model"
      ],
      "metadata": {
        "id": "ZrcC99zAn1Rd"
      }
    },
    {
      "cell_type": "code",
      "source": [
        "from tensorflow.keras import layers\n",
        "from tensorflow.keras import Model"
      ],
      "metadata": {
        "id": "m55PpIBJnZ_u"
      },
      "execution_count": 11,
      "outputs": []
    },
    {
      "cell_type": "code",
      "source": [
        "myLayer = layers.Flatten()(last_output)\n",
        "\n",
        "myLayer = layers.Dense(units=1024, activation='relu')(myLayer)\n",
        "\n",
        "myLayer = layers.Dense(units=1, activation='sigmoid')(myLayer)\n",
        "\n",
        "### Creating the ultimate model\n",
        "model = Model(pre_trained_model.input, myLayer)"
      ],
      "metadata": {
        "id": "mSbC5M3Koe17"
      },
      "execution_count": 12,
      "outputs": []
    },
    {
      "cell_type": "code",
      "source": [
        "from tensorflow.keras.optimizers import RMSprop\n",
        "model.compile(loss='binary_crossentropy', metrics=['accuracy'], optimizer=RMSprop(learning_rate=0.0001))"
      ],
      "metadata": {
        "id": "72_zm_oBpde8"
      },
      "execution_count": 13,
      "outputs": []
    },
    {
      "cell_type": "code",
      "execution_count": 14,
      "metadata": {
        "colab": {
          "base_uri": "https://localhost:8080/"
        },
        "outputId": "821695c8-7f91-4cf3-efa3-a932574fb161",
        "id": "qSzNz01BqYas"
      },
      "outputs": [
        {
          "output_type": "stream",
          "name": "stdout",
          "text": [
            "--2022-04-19 12:26:05--  https://download.microsoft.com/download/3/E/1/3E1C3F21-ECDB-4869-8368-6DEBA77B919F/kagglecatsanddogs_3367a.zip\n",
            "Resolving download.microsoft.com (download.microsoft.com)... 23.11.196.107, 2600:1407:f800:4a5::e59, 2600:1407:f800:49b::e59\n",
            "Connecting to download.microsoft.com (download.microsoft.com)|23.11.196.107|:443... connected.\n",
            "HTTP request sent, awaiting response... 200 OK\n",
            "Length: 824894548 (787M) [application/octet-stream]\n",
            "Saving to: ‘kagglecatsanddogs_3367a.zip’\n",
            "\n",
            "kagglecatsanddogs_3 100%[===================>] 786.68M   181MB/s    in 4.4s    \n",
            "\n",
            "2022-04-19 12:26:09 (178 MB/s) - ‘kagglecatsanddogs_3367a.zip’ saved [824894548/824894548]\n",
            "\n"
          ]
        }
      ],
      "source": [
        "### Download dataset\n",
        "!wget --no-check-certificate https://download.microsoft.com/download/3/E/1/3E1C3F21-ECDB-4869-8368-6DEBA77B919F/kagglecatsanddogs_3367a.zip"
      ]
    },
    {
      "cell_type": "code",
      "source": [
        "ZIP = zipfile.ZipFile('kagglecatsanddogs_3367a.zip', 'r')\n",
        "ZIP.extractall()\n",
        "ZIP.close()"
      ],
      "metadata": {
        "id": "HdyvbSZVqbX_"
      },
      "execution_count": 15,
      "outputs": []
    },
    {
      "cell_type": "code",
      "source": [
        "!mkdir /tmp/dataset\n",
        "!mv PetImages /tmp/dataset"
      ],
      "metadata": {
        "id": "jTdMswQFqnlQ"
      },
      "execution_count": 16,
      "outputs": []
    },
    {
      "cell_type": "code",
      "source": [
        "try:\n",
        "  ### Train, Test\n",
        "  os.mkdir(\"/tmp/dataset/train\")\n",
        "  os.mkdir(\"/tmp/dataset/test\")\n",
        "\n",
        "  ### Train: Dog, Cat\n",
        "  os.mkdir(\"/tmp/dataset/train/dogs\")\n",
        "  os.mkdir(\"/tmp/dataset/train/cats\")\n",
        "\n",
        "  ### Test: Dog, Cat\n",
        "  os.mkdir(\"/tmp/dataset/test/dogs\")\n",
        "  os.mkdir(\"/tmp/dataset/test/cats\")\n",
        "except Exception as e:\n",
        "  print(e)"
      ],
      "metadata": {
        "id": "5XrK6uy2q7ga"
      },
      "execution_count": 17,
      "outputs": []
    },
    {
      "cell_type": "code",
      "source": [
        "import random\n",
        "from shutil import copyfile"
      ],
      "metadata": {
        "id": "L1_uqiHXrDg_"
      },
      "execution_count": 18,
      "outputs": []
    },
    {
      "cell_type": "code",
      "source": [
        "def split_data(SOURCE, TRAIN, TEST, SPLIT_SIZE):\n",
        "  ### Reading the dataset\n",
        "  dataset = os.listdir(SOURCE)      ### listdir returns lists of SOURCE\n",
        "\n",
        "  ### Shuffling\n",
        "  dataset_random = random.sample(dataset, len(dataset))\n",
        "  # print(dataset_random[:10])\n",
        "\n",
        "  # print(f\"len: {len(dataset)}\")\n",
        "\n",
        "  ### Split size\n",
        "  split_value = int(SPLIT_SIZE * len(dataset_random))\n",
        "\n",
        "  # print(split_value)\n",
        "\n",
        "  ### Iterate on dataset (TRAIN)\n",
        "  for each_pic in dataset_random[:split_value]:\n",
        "    if os.path.getsize(SOURCE+each_pic) != 0:\n",
        "      copyfile(SOURCE+each_pic, TRAIN+each_pic)\n",
        "  \n",
        "  ### Iterate on dataset (TEST)\n",
        "  for each_pic in dataset_random[split_value:]:\n",
        "    if os.path.getsize(SOURCE+each_pic) != 0:\n",
        "      copyfile(SOURCE+each_pic, TEST+each_pic)\n",
        "\n",
        "\n",
        "\n",
        "dogs = \"/tmp/dataset/PetImages/Dog/\"\n",
        "cats = \"/tmp/dataset/PetImages/Cat/\"\n",
        "train_dogs = \"/tmp/dataset/train/dogs/\"\n",
        "train_cats = \"/tmp/dataset/train/cats/\"\n",
        "test_dogs = \"/tmp/dataset/test/dogs/\"\n",
        "test_cats = \"/tmp/dataset/test/cats/\"\n",
        "\n",
        "\n",
        "print(f\"Dog Train: {len(os.listdir(train_dogs))}\")\n",
        "print(f\"Dog Test: {len(os.listdir(test_dogs))}\")\n",
        "print(f\"Cat Train: {len(os.listdir(train_cats))}\")\n",
        "print(f\"Cat Test: {len(os.listdir(test_cats))}\")\n",
        "split_data(dogs, train_dogs, test_dogs, 0.8)\n",
        "split_data(cats, train_cats, test_cats, 0.8)\n",
        "print(\"*\" * 50)\n",
        "print(f\"Dog Train: {len(os.listdir(train_dogs))}\")\n",
        "print(f\"Dog Test: {len(os.listdir(test_dogs))}\")\n",
        "print(f\"Cat Train: {len(os.listdir(train_cats))}\")\n",
        "print(f\"Cat Test: {len(os.listdir(test_cats))}\")"
      ],
      "metadata": {
        "colab": {
          "base_uri": "https://localhost:8080/"
        },
        "id": "StLxEQptrSkc",
        "outputId": "41658cb0-d300-4803-f82d-017e7012c019"
      },
      "execution_count": 19,
      "outputs": [
        {
          "output_type": "stream",
          "name": "stdout",
          "text": [
            "Dog Train: 0\n",
            "Dog Test: 0\n",
            "Cat Train: 0\n",
            "Cat Test: 0\n",
            "**************************************************\n",
            "Dog Train: 10000\n",
            "Dog Test: 2500\n",
            "Cat Train: 9999\n",
            "Cat Test: 2501\n"
          ]
        }
      ]
    },
    {
      "cell_type": "code",
      "source": [
        "from tensorflow.keras.preprocessing.image import ImageDataGenerator"
      ],
      "metadata": {
        "id": "ABM-AQ_1sATS"
      },
      "execution_count": 20,
      "outputs": []
    },
    {
      "cell_type": "code",
      "source": [
        "train_gen = ImageDataGenerator(rescale=1.0/255,\n",
        "                               rotation_range=20,\n",
        "                               width_shift_range=0.2,\n",
        "                               height_shift_range=0.2,\n",
        "                               shear_range=0.2,\n",
        "                               zoom_range=0.2,\n",
        "                               fill_mode='nearest')"
      ],
      "metadata": {
        "id": "pf3Gw_tLsTWK"
      },
      "execution_count": 21,
      "outputs": []
    },
    {
      "cell_type": "code",
      "source": [
        "test_gen = ImageDataGenerator(rescale=1.0/255)"
      ],
      "metadata": {
        "id": "DpJkn-twsyor"
      },
      "execution_count": 22,
      "outputs": []
    },
    {
      "cell_type": "code",
      "source": [
        "train_generator = train_gen.flow_from_directory(directory=\"/tmp/dataset/train\",\n",
        "                                               target_size=(150, 150),\n",
        "                                               class_mode='binary',\n",
        "                                               batch_size=20)\n",
        "\n",
        "test_generator = test_gen.flow_from_directory(directory=\"/tmp/dataset/test\",\n",
        "                                              target_size=(150, 150),\n",
        "                                              class_mode='binary',\n",
        "                                              batch_size=20)"
      ],
      "metadata": {
        "colab": {
          "base_uri": "https://localhost:8080/"
        },
        "id": "x5_xLvi9s6vk",
        "outputId": "435bc39b-75d2-4df8-b512-61239b24ebda"
      },
      "execution_count": 23,
      "outputs": [
        {
          "output_type": "stream",
          "name": "stdout",
          "text": [
            "Found 19997 images belonging to 2 classes.\n",
            "Found 5001 images belonging to 2 classes.\n"
          ]
        }
      ]
    },
    {
      "cell_type": "code",
      "source": [
        "tf.test.gpu_device_name()"
      ],
      "metadata": {
        "colab": {
          "base_uri": "https://localhost:8080/",
          "height": 35
        },
        "id": "i5iLv6UGuKVL",
        "outputId": "e777dd8a-1a79-443a-fe49-0ba6e2948bfb"
      },
      "execution_count": 24,
      "outputs": [
        {
          "output_type": "execute_result",
          "data": {
            "text/plain": [
              "'/device:GPU:0'"
            ],
            "application/vnd.google.colaboratory.intrinsic+json": {
              "type": "string"
            }
          },
          "metadata": {},
          "execution_count": 24
        }
      ]
    },
    {
      "cell_type": "code",
      "source": [
        "with tf.device(\"/device:GPU:0\"):\n",
        "  H = model.fit(train_generator,\n",
        "            epochs=20,\n",
        "            steps_per_epoch=19996//20,\n",
        "            validation_data=test_generator,\n",
        "            validation_steps=5002//20)"
      ],
      "metadata": {
        "colab": {
          "base_uri": "https://localhost:8080/"
        },
        "id": "4VyM7K0wuaL0",
        "outputId": "8728e5ed-f5dd-4ad1-bb24-964eca6e3e7c"
      },
      "execution_count": 25,
      "outputs": [
        {
          "metadata": {
            "tags": null
          },
          "name": "stdout",
          "output_type": "stream",
          "text": [
            "Epoch 1/20\n",
            "438/999 [============>.................] - ETA: 1:54 - loss: 0.2088 - accuracy: 0.9190"
          ]
        },
        {
          "metadata": {
            "tags": null
          },
          "name": "stderr",
          "output_type": "stream",
          "text": [
            "/usr/local/lib/python3.7/dist-packages/PIL/TiffImagePlugin.py:770: UserWarning: Possibly corrupt EXIF data.  Expecting to read 32 bytes but only got 0. Skipping tag 270\n",
            "  \" Skipping tag %s\" % (size, len(data), tag)\n",
            "/usr/local/lib/python3.7/dist-packages/PIL/TiffImagePlugin.py:770: UserWarning: Possibly corrupt EXIF data.  Expecting to read 5 bytes but only got 0. Skipping tag 271\n",
            "  \" Skipping tag %s\" % (size, len(data), tag)\n",
            "/usr/local/lib/python3.7/dist-packages/PIL/TiffImagePlugin.py:770: UserWarning: Possibly corrupt EXIF data.  Expecting to read 8 bytes but only got 0. Skipping tag 272\n",
            "  \" Skipping tag %s\" % (size, len(data), tag)\n",
            "/usr/local/lib/python3.7/dist-packages/PIL/TiffImagePlugin.py:770: UserWarning: Possibly corrupt EXIF data.  Expecting to read 8 bytes but only got 0. Skipping tag 282\n",
            "  \" Skipping tag %s\" % (size, len(data), tag)\n",
            "/usr/local/lib/python3.7/dist-packages/PIL/TiffImagePlugin.py:770: UserWarning: Possibly corrupt EXIF data.  Expecting to read 8 bytes but only got 0. Skipping tag 283\n",
            "  \" Skipping tag %s\" % (size, len(data), tag)\n",
            "/usr/local/lib/python3.7/dist-packages/PIL/TiffImagePlugin.py:770: UserWarning: Possibly corrupt EXIF data.  Expecting to read 20 bytes but only got 0. Skipping tag 306\n",
            "  \" Skipping tag %s\" % (size, len(data), tag)\n",
            "/usr/local/lib/python3.7/dist-packages/PIL/TiffImagePlugin.py:770: UserWarning: Possibly corrupt EXIF data.  Expecting to read 48 bytes but only got 0. Skipping tag 532\n",
            "  \" Skipping tag %s\" % (size, len(data), tag)\n",
            "/usr/local/lib/python3.7/dist-packages/PIL/TiffImagePlugin.py:788: UserWarning: Corrupt EXIF data.  Expecting to read 2 bytes but only got 0. \n",
            "  warnings.warn(str(msg))\n"
          ]
        },
        {
          "output_type": "stream",
          "name": "stdout",
          "text": [
            "999/999 [==============================] - 241s 227ms/step - loss: 0.1862 - accuracy: 0.9297 - val_loss: 0.1019 - val_accuracy: 0.9696\n",
            "Epoch 2/20\n",
            "999/999 [==============================] - 226s 227ms/step - loss: 0.1480 - accuracy: 0.9499 - val_loss: 0.1288 - val_accuracy: 0.9608\n",
            "Epoch 3/20\n",
            "999/999 [==============================] - 225s 225ms/step - loss: 0.1446 - accuracy: 0.9524 - val_loss: 0.0938 - val_accuracy: 0.9710\n",
            "Epoch 4/20\n",
            "999/999 [==============================] - 230s 230ms/step - loss: 0.1353 - accuracy: 0.9540 - val_loss: 0.0924 - val_accuracy: 0.9720\n",
            "Epoch 5/20\n",
            "999/999 [==============================] - 230s 230ms/step - loss: 0.1200 - accuracy: 0.9605 - val_loss: 0.0975 - val_accuracy: 0.9718\n",
            "Epoch 6/20\n",
            "999/999 [==============================] - 232s 232ms/step - loss: 0.1249 - accuracy: 0.9590 - val_loss: 0.0938 - val_accuracy: 0.9720\n",
            "Epoch 7/20\n",
            "999/999 [==============================] - 230s 230ms/step - loss: 0.1098 - accuracy: 0.9631 - val_loss: 0.0942 - val_accuracy: 0.9758\n",
            "Epoch 8/20\n",
            "999/999 [==============================] - 228s 228ms/step - loss: 0.1132 - accuracy: 0.9639 - val_loss: 0.0971 - val_accuracy: 0.9732\n",
            "Epoch 9/20\n",
            "999/999 [==============================] - 220s 221ms/step - loss: 0.1087 - accuracy: 0.9636 - val_loss: 0.0858 - val_accuracy: 0.9762\n",
            "Epoch 10/20\n",
            "999/999 [==============================] - 220s 221ms/step - loss: 0.1044 - accuracy: 0.9635 - val_loss: 0.0941 - val_accuracy: 0.9738\n",
            "Epoch 11/20\n",
            "999/999 [==============================] - 230s 230ms/step - loss: 0.1012 - accuracy: 0.9656 - val_loss: 0.0788 - val_accuracy: 0.9774\n",
            "Epoch 12/20\n",
            "999/999 [==============================] - 230s 231ms/step - loss: 0.0988 - accuracy: 0.9667 - val_loss: 0.0869 - val_accuracy: 0.9768\n",
            "Epoch 13/20\n",
            "999/999 [==============================] - 226s 227ms/step - loss: 0.0950 - accuracy: 0.9675 - val_loss: 0.0809 - val_accuracy: 0.9756\n",
            "Epoch 14/20\n",
            "999/999 [==============================] - 229s 229ms/step - loss: 0.0950 - accuracy: 0.9679 - val_loss: 0.0832 - val_accuracy: 0.9754\n",
            "Epoch 15/20\n",
            "999/999 [==============================] - 219s 219ms/step - loss: 0.0937 - accuracy: 0.9679 - val_loss: 0.0849 - val_accuracy: 0.9760\n",
            "Epoch 16/20\n",
            "999/999 [==============================] - 213s 213ms/step - loss: 0.0895 - accuracy: 0.9702 - val_loss: 0.0856 - val_accuracy: 0.9764\n",
            "Epoch 17/20\n",
            "999/999 [==============================] - 213s 213ms/step - loss: 0.0884 - accuracy: 0.9702 - val_loss: 0.0852 - val_accuracy: 0.9746\n",
            "Epoch 18/20\n",
            "999/999 [==============================] - 214s 214ms/step - loss: 0.0887 - accuracy: 0.9691 - val_loss: 0.0852 - val_accuracy: 0.9752\n",
            "Epoch 19/20\n",
            "999/999 [==============================] - 216s 217ms/step - loss: 0.0882 - accuracy: 0.9694 - val_loss: 0.0843 - val_accuracy: 0.9762\n",
            "Epoch 20/20\n",
            "999/999 [==============================] - 216s 216ms/step - loss: 0.0860 - accuracy: 0.9698 - val_loss: 0.0971 - val_accuracy: 0.9726\n"
          ]
        }
      ]
    },
    {
      "cell_type": "code",
      "source": [
        ""
      ],
      "metadata": {
        "id": "lLYdJyr5yfA0"
      },
      "execution_count": null,
      "outputs": []
    }
  ]
}