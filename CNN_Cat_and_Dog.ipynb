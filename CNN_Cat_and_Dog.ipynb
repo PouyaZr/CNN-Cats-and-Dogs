{
  "nbformat": 4,
  "nbformat_minor": 0,
  "metadata": {
    "colab": {
      "name": "CNN_Cat_and_Dog.ipynb",
      "provenance": [],
      "collapsed_sections": [],
      "authorship_tag": "ABX9TyMBvY5udzOz9ONKAmV12Z7u",
      "include_colab_link": true
    },
    "kernelspec": {
      "name": "python3",
      "display_name": "Python 3"
    },
    "language_info": {
      "name": "python"
    },
    "accelerator": "GPU"
  },
  "cells": [
    {
      "cell_type": "markdown",
      "metadata": {
        "id": "view-in-github",
        "colab_type": "text"
      },
      "source": [
        "<a href=\"https://colab.research.google.com/github/PouyaZr/CNN_Cats_and_Dogs/blob/master/CNN_Cat_and_Dog.ipynb\" target=\"_parent\"><img src=\"https://colab.research.google.com/assets/colab-badge.svg\" alt=\"Open In Colab\"/></a>"
      ]
    },
    {
      "cell_type": "markdown",
      "source": [
        "\n",
        "\n",
        "### CAT and DOG --> CNN\n",
        "\n"
      ],
      "metadata": {
        "id": "EZamAMI0NbPU"
      }
    },
    {
      "cell_type": "code",
      "execution_count": 2,
      "metadata": {
        "colab": {
          "base_uri": "https://localhost:8080/"
        },
        "id": "yKDiNeKHMk1Z",
        "outputId": "ccea3cab-525f-41e6-a777-c3ad6df0b2a0"
      },
      "outputs": [
        {
          "output_type": "stream",
          "name": "stdout",
          "text": [
            "--2022-04-18 19:34:44--  https://download.microsoft.com/download/3/E/1/3E1C3F21-ECDB-4869-8368-6DEBA77B919F/kagglecatsanddogs_3367a.zip\n",
            "Resolving download.microsoft.com (download.microsoft.com)... 173.223.108.114, 2600:1407:f800:4a5::e59, 2600:1407:f800:49b::e59\n",
            "Connecting to download.microsoft.com (download.microsoft.com)|173.223.108.114|:443... connected.\n",
            "HTTP request sent, awaiting response... 200 OK\n",
            "Length: 824894548 (787M) [application/octet-stream]\n",
            "Saving to: ‘kagglecatsanddogs_3367a.zip’\n",
            "\n",
            "kagglecatsanddogs_3 100%[===================>] 786.68M   103MB/s    in 7.9s    \n",
            "\n",
            "2022-04-18 19:34:53 (99.2 MB/s) - ‘kagglecatsanddogs_3367a.zip’ saved [824894548/824894548]\n",
            "\n"
          ]
        }
      ],
      "source": [
        "### Download dataset\n",
        "!wget --no-check-certificate https://download.microsoft.com/download/3/E/1/3E1C3F21-ECDB-4869-8368-6DEBA77B919F/kagglecatsanddogs_3367a.zip"
      ]
    },
    {
      "cell_type": "code",
      "source": [
        "!ls"
      ],
      "metadata": {
        "colab": {
          "base_uri": "https://localhost:8080/"
        },
        "id": "F4zjCNjwM4nu",
        "outputId": "52ffcc43-0561-40c7-dce4-a766744b8026"
      },
      "execution_count": null,
      "outputs": [
        {
          "output_type": "stream",
          "name": "stdout",
          "text": [
            "kagglecatsanddogs_3367a.zip  sample_data\n"
          ]
        }
      ]
    },
    {
      "cell_type": "code",
      "source": [
        "import zipfile\n",
        "\n",
        "ZIP = zipfile.ZipFile('kagglecatsanddogs_3367a.zip', 'r')\n",
        "ZIP.extractall()\n",
        "ZIP.close()"
      ],
      "metadata": {
        "id": "jp0BKAZ9O3vI"
      },
      "execution_count": 3,
      "outputs": []
    },
    {
      "cell_type": "code",
      "source": [
        "!ls"
      ],
      "metadata": {
        "colab": {
          "base_uri": "https://localhost:8080/"
        },
        "id": "oGiGWzQoO9FM",
        "outputId": "26e56045-54eb-432c-df84-0745e731d8e1"
      },
      "execution_count": 4,
      "outputs": [
        {
          "output_type": "stream",
          "name": "stdout",
          "text": [
            " kagglecatsanddogs_3367a.zip   PetImages        sample_data\n",
            "'MSR-LA - 3467.docx'\t      'readme[1].txt'\n"
          ]
        }
      ]
    },
    {
      "cell_type": "code",
      "source": [
        "!rm -rf kagglecatsanddogs_3367a.zip"
      ],
      "metadata": {
        "id": "8nyMY7z8PxDi"
      },
      "execution_count": 5,
      "outputs": []
    },
    {
      "cell_type": "code",
      "source": [
        "!mkdir /tmp/dataset\n",
        "!mv PetImages /tmp/dataset"
      ],
      "metadata": {
        "id": "oR_qNTjxVHa3"
      },
      "execution_count": 6,
      "outputs": []
    },
    {
      "cell_type": "code",
      "source": [
        "!ls /tmp/dataset "
      ],
      "metadata": {
        "colab": {
          "base_uri": "https://localhost:8080/"
        },
        "id": "Ck9Vg_gxVJTQ",
        "outputId": "df2919af-9562-45ee-c72b-3b572a2ca9cf"
      },
      "execution_count": null,
      "outputs": [
        {
          "output_type": "stream",
          "name": "stdout",
          "text": [
            "PetImages\n"
          ]
        }
      ]
    },
    {
      "cell_type": "code",
      "source": [
        "!rm -rf /tmp/dataset/train /tmp/dataset/test"
      ],
      "metadata": {
        "id": "GKOZmoGGZiQY"
      },
      "execution_count": 7,
      "outputs": []
    },
    {
      "cell_type": "code",
      "source": [
        "import os\n",
        "\n",
        "try:\n",
        "  ### Train, Test\n",
        "  os.mkdir(\"/tmp/dataset/train\")\n",
        "  os.mkdir(\"/tmp/dataset/test\")\n",
        "\n",
        "  ### Train: Dog, Cat\n",
        "  os.mkdir(\"/tmp/dataset/train/dogs\")\n",
        "  os.mkdir(\"/tmp/dataset/train/cats\")\n",
        "\n",
        "  ### Test: Dog, Cat\n",
        "  os.mkdir(\"/tmp/dataset/test/dogs\")\n",
        "  os.mkdir(\"/tmp/dataset/test/cats\")\n",
        "except Exception as e:\n",
        "  print(e)"
      ],
      "metadata": {
        "id": "R8FFaTIiXIC4"
      },
      "execution_count": 8,
      "outputs": []
    },
    {
      "cell_type": "code",
      "source": [
        "import random\n",
        "from shutil import copyfile"
      ],
      "metadata": {
        "id": "ZVAcCNKrbl9b"
      },
      "execution_count": 9,
      "outputs": []
    },
    {
      "cell_type": "code",
      "source": [
        "def split_data(SOURCE, TRAIN, TEST, SPLIT_SIZE):\n",
        "  ### Reading the dataset\n",
        "  dataset = os.listdir(SOURCE)      ### listdir returns lists of SOURCE\n",
        "\n",
        "  ### Shuffling\n",
        "  dataset_random = random.sample(dataset, len(dataset))\n",
        "  # print(dataset_random[:10])\n",
        "\n",
        "  # print(f\"len: {len(dataset)}\")\n",
        "\n",
        "  ### Split size\n",
        "  split_value = int(SPLIT_SIZE * len(dataset_random))\n",
        "\n",
        "  # print(split_value)\n",
        "\n",
        "  ### Iterate on dataset (TRAIN)\n",
        "  for each_pic in dataset_random[:split_value]:\n",
        "    if os.path.getsize(SOURCE+each_pic) != 0:\n",
        "      copyfile(SOURCE+each_pic, TRAIN+each_pic)\n",
        "  \n",
        "  ### Iterate on dataset (TEST)\n",
        "  for each_pic in dataset_random[split_value:]:\n",
        "    if os.path.getsize(SOURCE+each_pic) != 0:\n",
        "      copyfile(SOURCE+each_pic, TEST+each_pic)\n",
        "\n",
        "\n",
        "\n",
        "dogs = \"/tmp/dataset/PetImages/Dog/\"\n",
        "cats = \"/tmp/dataset/PetImages/Cat/\"\n",
        "train_dogs = \"/tmp/dataset/train/dogs/\"\n",
        "train_cats = \"/tmp/dataset/train/cats/\"\n",
        "test_dogs = \"/tmp/dataset/test/dogs/\"\n",
        "test_cats = \"/tmp/dataset/test/cats/\"\n",
        "\n",
        "\n",
        "print(f\"Dog Train: {len(os.listdir(train_dogs))}\")\n",
        "print(f\"Dog Test: {len(os.listdir(test_dogs))}\")\n",
        "print(f\"Cat Train: {len(os.listdir(train_cats))}\")\n",
        "print(f\"Cat Test: {len(os.listdir(test_cats))}\")\n",
        "split_data(dogs, train_dogs, test_dogs, 0.8)\n",
        "split_data(cats, train_cats, test_cats, 0.8)\n",
        "print(\"*\" * 50)\n",
        "print(f\"Dog Train: {len(os.listdir(train_dogs))}\")\n",
        "print(f\"Dog Test: {len(os.listdir(test_dogs))}\")\n",
        "print(f\"Cat Train: {len(os.listdir(train_cats))}\")\n",
        "print(f\"Cat Test: {len(os.listdir(test_cats))}\")"
      ],
      "metadata": {
        "colab": {
          "base_uri": "https://localhost:8080/"
        },
        "id": "AbT8HQ6BVsjC",
        "outputId": "83ee501f-d778-42ee-d437-87812b0b041e"
      },
      "execution_count": 10,
      "outputs": [
        {
          "output_type": "stream",
          "name": "stdout",
          "text": [
            "Dog Train: 0\n",
            "Dog Test: 0\n",
            "Cat Train: 0\n",
            "Cat Test: 0\n",
            "**************************************************\n",
            "Dog Train: 9999\n",
            "Dog Test: 2501\n",
            "Cat Train: 9999\n",
            "Cat Test: 2501\n"
          ]
        }
      ]
    },
    {
      "cell_type": "code",
      "source": [
        "print(f\"Size of dataset: {os.path.getsize('/tmp/dataset/PetImages/Dog')}\")\n",
        "print(f\"Size of dataset: {os.path.getsize('/tmp/dataset/PetImages/Cat')}\")"
      ],
      "metadata": {
        "id": "qoFSDhokj_oQ",
        "colab": {
          "base_uri": "https://localhost:8080/"
        },
        "outputId": "1ef7fa83-9a86-427c-d027-8feefc2fbb14"
      },
      "execution_count": 11,
      "outputs": [
        {
          "output_type": "stream",
          "name": "stdout",
          "text": [
            "Size of dataset: 270336\n",
            "Size of dataset: 270336\n"
          ]
        }
      ]
    },
    {
      "cell_type": "code",
      "source": [
        "dataset = os.listdir(\"/tmp/dataset/PetImages/Cat\")\n",
        "print(dataset[0:10])"
      ],
      "metadata": {
        "colab": {
          "base_uri": "https://localhost:8080/"
        },
        "id": "4fywUNgjKuNZ",
        "outputId": "124f0f05-7dc0-43b4-c240-a73b428bdada"
      },
      "execution_count": 12,
      "outputs": [
        {
          "output_type": "stream",
          "name": "stdout",
          "text": [
            "['11184.jpg', '8133.jpg', '401.jpg', '8498.jpg', '11251.jpg', '27.jpg', '9321.jpg', '10.jpg', '11581.jpg', '8451.jpg']\n"
          ]
        }
      ]
    },
    {
      "cell_type": "code",
      "source": [
        "from tensorflow.keras.preprocessing.image import ImageDataGenerator"
      ],
      "metadata": {
        "id": "_HlbXBRXLkSE"
      },
      "execution_count": 17,
      "outputs": []
    },
    {
      "cell_type": "code",
      "source": [
        "data_gen = ImageDataGenerator(rescale=1.0/255)"
      ],
      "metadata": {
        "id": "PV6QHwkGLxPJ"
      },
      "execution_count": 14,
      "outputs": []
    },
    {
      "cell_type": "code",
      "source": [
        "train_gen = data_gen.flow_from_directory(directory='/tmp/dataset/train/',\n",
        "                                         target_size=(150, 150),\n",
        "                                         class_mode='binary',\n",
        "                                         batch_size=32)\n",
        "\n",
        "test_gen = data_gen.flow_from_directory(directory='/tmp/dataset/test/',\n",
        "                                        target_size=(150, 150),\n",
        "                                        class_mode='binary',\n",
        "                                        batch_size=32)\n"
      ],
      "metadata": {
        "colab": {
          "base_uri": "https://localhost:8080/"
        },
        "id": "z_GQnHS7MUHb",
        "outputId": "4316b155-9112-47be-8de2-557d1126c930"
      },
      "execution_count": 15,
      "outputs": [
        {
          "output_type": "stream",
          "name": "stdout",
          "text": [
            "Found 19996 images belonging to 2 classes.\n",
            "Found 5002 images belonging to 2 classes.\n"
          ]
        }
      ]
    },
    {
      "cell_type": "code",
      "source": [
        "import tensorflow as tf\n",
        "from tensorflow.keras.layers import Conv2D, MaxPooling2D, Flatten, Dense"
      ],
      "metadata": {
        "id": "5peBBS3ANf_X"
      },
      "execution_count": 18,
      "outputs": []
    },
    {
      "cell_type": "code",
      "source": [
        "model = tf.keras.models.Sequential([\n",
        "                                    ### First Layer\n",
        "                                    Conv2D(filters=16, kernel_size=(3, 3), activation='relu', input_shape=(150, 150, 3)),\n",
        "                                           MaxPooling2D(pool_size=(2, 2)),\n",
        "\n",
        "                                    ### Second Layer\n",
        "                                    Conv2D(filters=32, kernel_size=(3, 3), activation='relu'),\n",
        "                                           MaxPooling2D(pool_size=(2, 2)),\n",
        "\n",
        "                                    ### Third Layer\n",
        "                                    Conv2D(filters=64, kernel_size=(3, 3), activation='relu'),\n",
        "                                           MaxPooling2D(pool_size=(2, 2)),\n",
        "\n",
        "                                    ### Fourth Layer\n",
        "                                    Conv2D(filters=64, kernel_size=(3, 3), activation='relu'),\n",
        "                                           MaxPooling2D(pool_size=(2, 2)),\n",
        "                                    \n",
        "                                    ### Fifth Layer\n",
        "                                    Conv2D(filters=128, kernel_size=(3, 3), activation='relu'),\n",
        "                                           MaxPooling2D(pool_size=(2, 2)),\n",
        "                                    \n",
        "                                    ### Flatten\n",
        "                                    Flatten(),\n",
        "\n",
        "                                    Dense(units=256, activation='relu'),\n",
        "                                    Dense(units=1, activation='sigmoid')\n",
        "                                                                          \n",
        "])"
      ],
      "metadata": {
        "id": "8_UKa9MYNvzY"
      },
      "execution_count": 20,
      "outputs": []
    },
    {
      "cell_type": "code",
      "source": [
        "model.summary()"
      ],
      "metadata": {
        "colab": {
          "base_uri": "https://localhost:8080/"
        },
        "id": "Cc_XsbYhRePQ",
        "outputId": "4ca8013c-62dd-4cd0-c913-3a24ac76fe2c"
      },
      "execution_count": 21,
      "outputs": [
        {
          "output_type": "stream",
          "name": "stdout",
          "text": [
            "Model: \"sequential_1\"\n",
            "_________________________________________________________________\n",
            " Layer (type)                Output Shape              Param #   \n",
            "=================================================================\n",
            " conv2d_5 (Conv2D)           (None, 148, 148, 16)      448       \n",
            "                                                                 \n",
            " max_pooling2d_5 (MaxPooling  (None, 74, 74, 16)       0         \n",
            " 2D)                                                             \n",
            "                                                                 \n",
            " conv2d_6 (Conv2D)           (None, 72, 72, 32)        4640      \n",
            "                                                                 \n",
            " max_pooling2d_6 (MaxPooling  (None, 36, 36, 32)       0         \n",
            " 2D)                                                             \n",
            "                                                                 \n",
            " conv2d_7 (Conv2D)           (None, 34, 34, 64)        18496     \n",
            "                                                                 \n",
            " max_pooling2d_7 (MaxPooling  (None, 17, 17, 64)       0         \n",
            " 2D)                                                             \n",
            "                                                                 \n",
            " conv2d_8 (Conv2D)           (None, 15, 15, 64)        36928     \n",
            "                                                                 \n",
            " max_pooling2d_8 (MaxPooling  (None, 7, 7, 64)         0         \n",
            " 2D)                                                             \n",
            "                                                                 \n",
            " conv2d_9 (Conv2D)           (None, 5, 5, 128)         73856     \n",
            "                                                                 \n",
            " max_pooling2d_9 (MaxPooling  (None, 2, 2, 128)        0         \n",
            " 2D)                                                             \n",
            "                                                                 \n",
            " flatten_1 (Flatten)         (None, 512)               0         \n",
            "                                                                 \n",
            " dense_2 (Dense)             (None, 256)               131328    \n",
            "                                                                 \n",
            " dense_3 (Dense)             (None, 1)                 257       \n",
            "                                                                 \n",
            "=================================================================\n",
            "Total params: 265,953\n",
            "Trainable params: 265,953\n",
            "Non-trainable params: 0\n",
            "_________________________________________________________________\n"
          ]
        }
      ]
    },
    {
      "cell_type": "code",
      "source": [
        "model.compile(optimizer='rmsprop', loss='binary_crossentropy', metrics=['accuracy'])"
      ],
      "metadata": {
        "id": "XtuPjynuRsh0"
      },
      "execution_count": 22,
      "outputs": []
    },
    {
      "cell_type": "code",
      "source": [
        "tf.test.gpu_device_name()"
      ],
      "metadata": {
        "colab": {
          "base_uri": "https://localhost:8080/",
          "height": 35
        },
        "id": "06Ez1A_sR9nV",
        "outputId": "57b2135a-361a-4d09-ef18-6d556a87e303"
      },
      "execution_count": 23,
      "outputs": [
        {
          "output_type": "execute_result",
          "data": {
            "text/plain": [
              "'/device:GPU:0'"
            ],
            "application/vnd.google.colaboratory.intrinsic+json": {
              "type": "string"
            }
          },
          "metadata": {},
          "execution_count": 23
        }
      ]
    },
    {
      "cell_type": "code",
      "source": [
        "with tf.device('/device:GPU:0'):\n",
        "  model.fit_generator(generator=train_gen,\n",
        "                      steps_per_epoch=19996//32,\n",
        "                      epochs=25,\n",
        "                      validation_data=test_gen,\n",
        "                      validation_steps=5002//32)"
      ],
      "metadata": {
        "colab": {
          "base_uri": "https://localhost:8080/"
        },
        "id": "s3ciq7QtSDK5",
        "outputId": "e04af7a3-d549-4dda-c8b1-672867353667"
      },
      "execution_count": 26,
      "outputs": [
        {
          "metadata": {
            "tags": null
          },
          "name": "stderr",
          "output_type": "stream",
          "text": [
            "/usr/local/lib/python3.7/dist-packages/ipykernel_launcher.py:6: UserWarning: `Model.fit_generator` is deprecated and will be removed in a future version. Please use `Model.fit`, which supports generators.\n",
            "  \n"
          ]
        },
        {
          "metadata": {
            "tags": null
          },
          "name": "stdout",
          "output_type": "stream",
          "text": [
            "Epoch 1/25\n",
            "482/624 [======================>.......] - ETA: 17s - loss: 0.6368 - accuracy: 0.6274"
          ]
        },
        {
          "metadata": {
            "tags": null
          },
          "name": "stderr",
          "output_type": "stream",
          "text": [
            "/usr/local/lib/python3.7/dist-packages/PIL/TiffImagePlugin.py:770: UserWarning: Possibly corrupt EXIF data.  Expecting to read 32 bytes but only got 0. Skipping tag 270\n",
            "  \" Skipping tag %s\" % (size, len(data), tag)\n",
            "/usr/local/lib/python3.7/dist-packages/PIL/TiffImagePlugin.py:770: UserWarning: Possibly corrupt EXIF data.  Expecting to read 5 bytes but only got 0. Skipping tag 271\n",
            "  \" Skipping tag %s\" % (size, len(data), tag)\n",
            "/usr/local/lib/python3.7/dist-packages/PIL/TiffImagePlugin.py:770: UserWarning: Possibly corrupt EXIF data.  Expecting to read 8 bytes but only got 0. Skipping tag 272\n",
            "  \" Skipping tag %s\" % (size, len(data), tag)\n",
            "/usr/local/lib/python3.7/dist-packages/PIL/TiffImagePlugin.py:770: UserWarning: Possibly corrupt EXIF data.  Expecting to read 8 bytes but only got 0. Skipping tag 282\n",
            "  \" Skipping tag %s\" % (size, len(data), tag)\n",
            "/usr/local/lib/python3.7/dist-packages/PIL/TiffImagePlugin.py:770: UserWarning: Possibly corrupt EXIF data.  Expecting to read 8 bytes but only got 0. Skipping tag 283\n",
            "  \" Skipping tag %s\" % (size, len(data), tag)\n",
            "/usr/local/lib/python3.7/dist-packages/PIL/TiffImagePlugin.py:770: UserWarning: Possibly corrupt EXIF data.  Expecting to read 20 bytes but only got 0. Skipping tag 306\n",
            "  \" Skipping tag %s\" % (size, len(data), tag)\n",
            "/usr/local/lib/python3.7/dist-packages/PIL/TiffImagePlugin.py:770: UserWarning: Possibly corrupt EXIF data.  Expecting to read 48 bytes but only got 0. Skipping tag 532\n",
            "  \" Skipping tag %s\" % (size, len(data), tag)\n",
            "/usr/local/lib/python3.7/dist-packages/PIL/TiffImagePlugin.py:788: UserWarning: Corrupt EXIF data.  Expecting to read 2 bytes but only got 0. \n",
            "  warnings.warn(str(msg))\n"
          ]
        },
        {
          "output_type": "stream",
          "name": "stdout",
          "text": [
            "624/624 [==============================] - 109s 157ms/step - loss: 0.6194 - accuracy: 0.6475 - val_loss: 0.5445 - val_accuracy: 0.7242\n",
            "Epoch 2/25\n",
            "624/624 [==============================] - 92s 148ms/step - loss: 0.4963 - accuracy: 0.7654 - val_loss: 0.5009 - val_accuracy: 0.7564\n",
            "Epoch 3/25\n",
            "624/624 [==============================] - 92s 147ms/step - loss: 0.4201 - accuracy: 0.8072 - val_loss: 0.3993 - val_accuracy: 0.8213\n",
            "Epoch 4/25\n",
            "624/624 [==============================] - 93s 149ms/step - loss: 0.3580 - accuracy: 0.8432 - val_loss: 0.3591 - val_accuracy: 0.8476\n",
            "Epoch 5/25\n",
            "624/624 [==============================] - 93s 149ms/step - loss: 0.3065 - accuracy: 0.8671 - val_loss: 0.4113 - val_accuracy: 0.8243\n",
            "Epoch 6/25\n",
            "624/624 [==============================] - 93s 149ms/step - loss: 0.2658 - accuracy: 0.8887 - val_loss: 0.3051 - val_accuracy: 0.8754\n",
            "Epoch 7/25\n",
            "624/624 [==============================] - 93s 148ms/step - loss: 0.2281 - accuracy: 0.9052 - val_loss: 0.3158 - val_accuracy: 0.8708\n",
            "Epoch 8/25\n",
            "624/624 [==============================] - 92s 148ms/step - loss: 0.2007 - accuracy: 0.9175 - val_loss: 0.3642 - val_accuracy: 0.8730\n",
            "Epoch 9/25\n",
            "624/624 [==============================] - 96s 154ms/step - loss: 0.1797 - accuracy: 0.9281 - val_loss: 0.3359 - val_accuracy: 0.8806\n",
            "Epoch 10/25\n",
            "624/624 [==============================] - 94s 150ms/step - loss: 0.1617 - accuracy: 0.9359 - val_loss: 0.3916 - val_accuracy: 0.8738\n",
            "Epoch 11/25\n",
            "624/624 [==============================] - 91s 146ms/step - loss: 0.1499 - accuracy: 0.9425 - val_loss: 0.3691 - val_accuracy: 0.8820\n",
            "Epoch 12/25\n",
            "624/624 [==============================] - 92s 148ms/step - loss: 0.1344 - accuracy: 0.9490 - val_loss: 0.4761 - val_accuracy: 0.8842\n",
            "Epoch 13/25\n",
            "624/624 [==============================] - 92s 148ms/step - loss: 0.1194 - accuracy: 0.9572 - val_loss: 0.4566 - val_accuracy: 0.8291\n",
            "Epoch 14/25\n",
            "624/624 [==============================] - 93s 149ms/step - loss: 0.1079 - accuracy: 0.9613 - val_loss: 0.4345 - val_accuracy: 0.8722\n",
            "Epoch 15/25\n",
            "624/624 [==============================] - 93s 149ms/step - loss: 0.1023 - accuracy: 0.9625 - val_loss: 0.4333 - val_accuracy: 0.8680\n",
            "Epoch 16/25\n",
            "624/624 [==============================] - 94s 150ms/step - loss: 0.1038 - accuracy: 0.9650 - val_loss: 0.4286 - val_accuracy: 0.8772\n",
            "Epoch 17/25\n",
            "624/624 [==============================] - 93s 150ms/step - loss: 0.0976 - accuracy: 0.9681 - val_loss: 0.4649 - val_accuracy: 0.8762\n",
            "Epoch 18/25\n",
            "624/624 [==============================] - 93s 150ms/step - loss: 0.0947 - accuracy: 0.9688 - val_loss: 0.4489 - val_accuracy: 0.8730\n",
            "Epoch 19/25\n",
            "624/624 [==============================] - 93s 150ms/step - loss: 0.0942 - accuracy: 0.9686 - val_loss: 0.4430 - val_accuracy: 0.8622\n",
            "Epoch 20/25\n",
            "624/624 [==============================] - 95s 152ms/step - loss: 0.1001 - accuracy: 0.9688 - val_loss: 0.8692 - val_accuracy: 0.8496\n",
            "Epoch 21/25\n",
            "624/624 [==============================] - 93s 149ms/step - loss: 0.0876 - accuracy: 0.9720 - val_loss: 0.6902 - val_accuracy: 0.8830\n",
            "Epoch 22/25\n",
            "624/624 [==============================] - 93s 150ms/step - loss: 0.0817 - accuracy: 0.9739 - val_loss: 0.4783 - val_accuracy: 0.8700\n",
            "Epoch 23/25\n",
            "624/624 [==============================] - 93s 149ms/step - loss: 0.0792 - accuracy: 0.9737 - val_loss: 0.4603 - val_accuracy: 0.8572\n",
            "Epoch 24/25\n",
            "624/624 [==============================] - 94s 150ms/step - loss: 0.0800 - accuracy: 0.9754 - val_loss: 0.6737 - val_accuracy: 0.8840\n",
            "Epoch 25/25\n",
            "624/624 [==============================] - 93s 150ms/step - loss: 0.0870 - accuracy: 0.9746 - val_loss: 0.5659 - val_accuracy: 0.8824\n"
          ]
        }
      ]
    },
    {
      "cell_type": "code",
      "source": [
        "### The model has Overfitting"
      ],
      "metadata": {
        "id": "-lVmRUEDTyuy"
      },
      "execution_count": null,
      "outputs": []
    }
  ]
}